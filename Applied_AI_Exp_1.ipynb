{
  "cells": [
    {
      "cell_type": "code",
      "source": [
        "!pip install pybbn"
      ],
      "metadata": {
        "id": "vGx87gzF3i84",
        "outputId": "40dfc2cc-d723-434f-e8d3-439bb810b53b",
        "colab": {
          "base_uri": "https://localhost:8080/"
        }
      },
      "execution_count": 1,
      "outputs": [
        {
          "output_type": "stream",
          "name": "stdout",
          "text": [
            "Looking in indexes: https://pypi.org/simple, https://us-python.pkg.dev/colab-wheels/public/simple/\n",
            "Requirement already satisfied: pybbn in /usr/local/lib/python3.9/dist-packages (3.2.3)\n",
            "Requirement already satisfied: scipy in /usr/local/lib/python3.9/dist-packages (from pybbn) (1.10.1)\n",
            "Requirement already satisfied: networkx in /usr/local/lib/python3.9/dist-packages (from pybbn) (3.0)\n",
            "Requirement already satisfied: numpy in /usr/local/lib/python3.9/dist-packages (from pybbn) (1.22.4)\n",
            "Requirement already satisfied: pandas in /usr/local/lib/python3.9/dist-packages (from pybbn) (1.4.4)\n",
            "Requirement already satisfied: python-dateutil>=2.8.1 in /usr/local/lib/python3.9/dist-packages (from pandas->pybbn) (2.8.2)\n",
            "Requirement already satisfied: pytz>=2020.1 in /usr/local/lib/python3.9/dist-packages (from pandas->pybbn) (2022.7.1)\n",
            "Requirement already satisfied: six>=1.5 in /usr/local/lib/python3.9/dist-packages (from python-dateutil>=2.8.1->pandas->pybbn) (1.16.0)\n"
          ]
        }
      ]
    },
    {
      "cell_type": "code",
      "source": [
        "import pandas as pd # for data manipulation\n",
        "import networkx as nx # for drawing graphs\n",
        "import matplotlib.pyplot as plt # for drawing graphs\n",
        "# for creating Bayesian Belief Networks (BBN)\n",
        "from pybbn.graph.dag import Bbn\n",
        "from pybbn.graph.edge import Edge, EdgeType\n",
        "from pybbn.graph.jointree import EvidenceBuilder\n",
        "from pybbn.graph.node import BbnNode\n",
        "from pybbn.graph.variable import Variable\n",
        "from pybbn.pptc.inferencecontroller import InferenceController #Set Pandas options to display more columns\n",
        "pd.options.display.max_columns=50\n",
        "# Read in the weather data csv\n",
        "df=pd.read_csv('weatherAUS.csv', encoding='utf-8')\n",
        "# Drop records where target RainTomorrow=NaN \n",
        "df=df[pd.isnull(df['RainTomorrow'])==False]\n",
        "\n",
        "# For other columns with missing values, fill them in with column mean\n",
        "df=df.fillna(df.mean())\n",
        "# Create hande for vaniahloe that\n",
        "df['WindGustSpeedCat']=df['WindGustSpeed'].apply(lambda x: '0.<=40' if x<=40 else \n",
        "                                                   '1.40-50'  if 40<x<=50 else '2.>50')\n",
        "df['Humidity9amCat' ]=df[ 'Humidity9am'].apply(lambda x: '1.>60' if x>60 else '0.<=60')\n",
        "df['Humidity3pmCat']=df['Humidity3pm'].apply(lambda x: '1.>60' if x>60 else '0.<=60')\n",
        "# Show a snaphsot of data\n",
        "print(df)"
      ],
      "metadata": {
        "colab": {
          "base_uri": "https://localhost:8080/"
        },
        "id": "du9RD3rH3mnt",
        "outputId": "ef79eaa7-fca5-4142-a380-8a065ecb9500"
      },
      "execution_count": 2,
      "outputs": [
        {
          "output_type": "stream",
          "name": "stdout",
          "text": [
            "             Date          Location  MinTemp  MaxTemp  Rainfall  Evaporation  \\\n",
            "0      2008-12-01            Albury     13.4     22.9       0.6     5.303557   \n",
            "1      2008-12-02            Albury      7.4     25.1       0.0     5.303557   \n",
            "2      2008-12-03            Albury     12.9     25.7       0.0     5.303557   \n",
            "3      2008-12-04            Albury      9.2     28.0       0.0     5.303557   \n",
            "4      2008-12-05            Albury     17.5     32.3       1.0     5.303557   \n",
            "...           ...               ...      ...      ...       ...          ...   \n",
            "65292  2012-02-06  MelbourneAirport     10.3     24.0       2.0    10.600000   \n",
            "65293  2012-02-07  MelbourneAirport     10.9     21.2       0.0     6.000000   \n",
            "65294  2012-02-08  MelbourneAirport      8.9     21.7       0.0     5.600000   \n",
            "65295  2012-02-09  MelbourneAirport      9.2     26.0       0.0     6.400000   \n",
            "65296  2012-02-10  MelbourneAirport     15.3     25.8       0.0     6.200000   \n",
            "\n",
            "        Sunshine WindGustDir  WindGustSpeed WindDir9am WindDir3pm  \\\n",
            "0       7.435725           W           44.0          W        WNW   \n",
            "1       7.435725         WNW           44.0        NNW        WSW   \n",
            "2       7.435725         WSW           46.0          W        WSW   \n",
            "3       7.435725          NE           24.0         SE          E   \n",
            "4       7.435725           W           41.0        ENE         NW   \n",
            "...          ...         ...            ...        ...        ...   \n",
            "65292  11.800000          SW           56.0        WSW        SSW   \n",
            "65293   3.800000           S           43.0        WSW        SSE   \n",
            "65294  11.100000           S           48.0         SW        SSE   \n",
            "65295  11.300000         SSE           41.0         SW          W   \n",
            "65296   7.000000           S           52.0         SW          S   \n",
            "\n",
            "       WindSpeed9am  WindSpeed3pm  Humidity9am  Humidity3pm  Pressure9am  \\\n",
            "0              20.0          24.0         71.0         22.0       1007.7   \n",
            "1               4.0          22.0         44.0         25.0       1010.6   \n",
            "2              19.0          26.0         38.0         30.0       1007.6   \n",
            "3              11.0           9.0         45.0         16.0       1017.6   \n",
            "4               7.0          20.0         82.0         33.0       1010.8   \n",
            "...             ...           ...          ...          ...          ...   \n",
            "65292          24.0          15.0         52.0         31.0       1007.4   \n",
            "65293          19.0          30.0         66.0         49.0       1011.1   \n",
            "65294           9.0          30.0         65.0         42.0       1014.8   \n",
            "65295          15.0          20.0         64.0         32.0       1013.2   \n",
            "65296          11.0          30.0         77.0         46.0       1011.7   \n",
            "\n",
            "       Pressure3pm  Cloud9am  Cloud3pm  Temp9am  Temp3pm RainToday  \\\n",
            "0           1007.1  8.000000   4.66498     16.9     21.8        No   \n",
            "1           1007.8  4.592145   4.66498     17.2     24.3        No   \n",
            "2           1008.7  4.592145   2.00000     21.0     23.2        No   \n",
            "3           1012.8  4.592145   4.66498     18.1     26.5        No   \n",
            "4           1006.0  7.000000   8.00000     17.8     29.7        No   \n",
            "...            ...       ...       ...      ...      ...       ...   \n",
            "65292       1006.6  1.000000   7.00000     14.4     21.4       Yes   \n",
            "65293       1011.5  1.000000   7.00000     15.6     17.6        No   \n",
            "65294       1014.5  7.000000   5.00000     14.4     18.6        No   \n",
            "65295       1010.9  3.000000   4.00000     15.7     24.8        No   \n",
            "65296       1010.0  7.000000   6.00000     18.3     25.0        No   \n",
            "\n",
            "      RainTomorrow WindGustSpeedCat Humidity9amCat Humidity3pmCat  \n",
            "0               No          1.40-50          1.>60         0.<=60  \n",
            "1               No          1.40-50         0.<=60         0.<=60  \n",
            "2               No          1.40-50         0.<=60         0.<=60  \n",
            "3               No           0.<=40         0.<=60         0.<=60  \n",
            "4               No          1.40-50          1.>60         0.<=60  \n",
            "...            ...              ...            ...            ...  \n",
            "65292           No            2.>50         0.<=60         0.<=60  \n",
            "65293           No          1.40-50          1.>60         0.<=60  \n",
            "65294           No          1.40-50          1.>60         0.<=60  \n",
            "65295           No          1.40-50          1.>60         0.<=60  \n",
            "65296          Yes            2.>50          1.>60         0.<=60  \n",
            "\n",
            "[63842 rows x 26 columns]\n"
          ]
        },
        {
          "output_type": "stream",
          "name": "stderr",
          "text": [
            "<ipython-input-2-804c8c5b8e55>:18: FutureWarning: Dropping of nuisance columns in DataFrame reductions (with 'numeric_only=None') is deprecated; in a future version this will raise TypeError.  Select only valid columns before calling the reduction.\n",
            "  df=df.fillna(df.mean())\n"
          ]
        }
      ]
    },
    {
      "cell_type": "code",
      "source": [
        "def probs(data, child, parent1=None, parent2=None):\n",
        "  if parent1==None:\n",
        "    prob=pd.crosstab(data[child],'Empty', margins=False, normalize='columns').sort_index().to_numpy().reshape(-1).tolist()\n",
        "  elif parent1!=None:\n",
        "    if parent2==None:\n",
        "      prob=pd.crosstab(data[parent1],data[child], margins=False, normalize='index').sort_index().to_numpy().reshape(-1).tolist()\n",
        "    else:\n",
        "      prob=pd. crosstab([data[parent1], data[parent2]],data[child], margins=False, normalize='index').sort_index().to_numpy().reshape(-1).tolist()\n",
        "  else: print(\"Error in Probability Frequency Calculations\")\n",
        "  return prob\n",
        "H9am = BbnNode(Variable(0, 'H9am', ['<=60', '>60']), probs(df, child='Humidity9amCat'))\n",
        "H3pm = BbnNode(Variable(1, 'H3pm', ['<=60', '>60']), probs(df, child= 'Humidity3pmCat', parent1='Humidity9amCat'))\n",
        "W =BbnNode(Variable(2, 'W', ['<=40', '40-50', '>50']), probs(df, child='WindGustSpeedCat'))\n",
        "RT = BbnNode(Variable(3, 'RT', ['No', 'Yes']), probs(df, child='RainTomorrow', parent1='Humidity3pmCat', parent2='WindGustSpeedCat'))\n",
        "\n",
        "bbn= Bbn() \\\n",
        "  .add_node(H9am) \\\n",
        "  .add_node(H3pm) \\\n",
        "  .add_node(W) \\\n",
        "  .add_node(RT) \\\n",
        "  .add_edge(Edge(H9am,H3pm, EdgeType.DIRECTED)) \\\n",
        "  .add_edge(Edge(H3pm, RT, EdgeType.DIRECTED)) \\\n",
        "  .add_edge(Edge(W,RT, EdgeType.DIRECTED))\n"
      ],
      "metadata": {
        "id": "5BHW-WNR6UK8"
      },
      "execution_count": 3,
      "outputs": []
    },
    {
      "cell_type": "code",
      "source": [
        "join_tree =InferenceController.apply(bbn)\n",
        "pos={0: (-1,-2), 1: (-1, 0.5), 2: (1, 0.5), 3:(0,-1)}\n",
        "options ={\n",
        "\"font_size\": 16,\n",
        "\"node_size\": 4000,\n",
        "\"node_color\": \"white\",\n",
        "\"edgecolors\": \"black\",\n",
        "\"edge_color\": \"red\",\n",
        "\"linewidths\": 5,\n",
        "\"width\": 5,\n",
        "}\n",
        "n,d=bbn.to_nx_graph()\n",
        "nx.draw(n, with_labels=True,labels=d, pos=pos, **options)\n",
        "\n",
        "ax=plt.gca()\n",
        "ax.margins (0.20)\n",
        "plt.axis(\"off\")\n",
        "plt.show()"
      ],
      "metadata": {
        "id": "nn3vwRLlAOmq",
        "outputId": "ccbf9660-4c13-4dd2-bc91-5ba8933c05da",
        "colab": {
          "base_uri": "https://localhost:8080/",
          "height": 319
        }
      },
      "execution_count": 4,
      "outputs": [
        {
          "output_type": "display_data",
          "data": {
            "text/plain": [
              "<Figure size 432x288 with 1 Axes>"
            ],
            "image/png": "[encoded data removed]"
          },
          "metadata": {}
        }
      ]
    },
    {
      "cell_type": "code",
      "source": [],
      "metadata": {
        "id": "KAQMSkkSFFBQ"
      },
      "execution_count": 4,
      "outputs": []
    }
  ],
  "metadata": {
    "accelerator": "GPU",
    "colab": {
      "provenance": []
    },
    "kernelspec": {
      "display_name": "Python 3",
      "name": "python3"
    }
  },
  "nbformat": 4,
  "nbformat_minor": 0
}